{
 "cells": [
  {
   "cell_type": "code",
   "execution_count": 1,
   "metadata": {},
   "outputs": [],
   "source": [
    "import numpy as np\n",
    "import pandas as pd\n",
    "import datetime as dt\n",
    "import matplotlib.pyplot as plt\n",
    "import seaborn as sns\n",
    "%matplotlib inline"
   ]
  },
  {
   "cell_type": "code",
   "execution_count": 2,
   "metadata": {},
   "outputs": [],
   "source": [
    "retail = pd.read_csv(r\"C:\\Users\\hrap003\\Desktop\\Python\\Data science projects\\Retail pojects\\UK retail data\\data.csv\", encoding = \"Latin-1\")"
   ]
  },
  {
   "cell_type": "code",
   "execution_count": 3,
   "metadata": {},
   "outputs": [
    {
     "data": {
      "text/plain": [
       "(541909, 8)"
      ]
     },
     "execution_count": 3,
     "metadata": {},
     "output_type": "execute_result"
    }
   ],
   "source": [
    "\"\"\"\n",
    "1. Show the size of the dataframe\n",
    "2. Total number of rows\n",
    "3. Total number of columns\n",
    "\"\"\"\n",
    "\n",
    "retail.shape"
   ]
  },
  {
   "cell_type": "code",
   "execution_count": 4,
   "metadata": {},
   "outputs": [
    {
     "name": "stdout",
     "output_type": "stream",
     "text": [
      "<class 'pandas.core.frame.DataFrame'>\n",
      "RangeIndex: 541909 entries, 0 to 541908\n",
      "Data columns (total 8 columns):\n",
      "InvoiceNo      541909 non-null object\n",
      "StockCode      541909 non-null object\n",
      "Description    540455 non-null object\n",
      "Quantity       541909 non-null int64\n",
      "InvoiceDate    541909 non-null object\n",
      "UnitPrice      541909 non-null float64\n",
      "CustomerID     406829 non-null float64\n",
      "Country        541909 non-null object\n",
      "dtypes: float64(2), int64(1), object(5)\n",
      "memory usage: 33.1+ MB\n"
     ]
    }
   ],
   "source": [
    "\"\"\"\n",
    "Information about the dataframe\n",
    "\"\"\"\n",
    "retail.info()"
   ]
  },
  {
   "cell_type": "code",
   "execution_count": 5,
   "metadata": {},
   "outputs": [],
   "source": [
    "\"\"\"\n",
    "1. Renaming the column names\n",
    "2. Used mapping dictonary technique to rename all the columns together\n",
    "\"\"\"\n",
    "\n",
    "retail = retail.rename(columns={    \n",
    "    \"InvoiceNo\": \"invoice_no\",\n",
    "    \"StockCode\": \"stock_code\",\n",
    "    \"Description\": \"description\",\n",
    "    \"Quantity\": \"quantity\",\n",
    "    \"InvoiceDate\": \"invoice_date\",\n",
    "    \"UnitPrice\": \"unit_price\",\n",
    "    \"CustomerID\": \"customer_id\",\n",
    "    \"Country\": \"country\"})"
   ]
  },
  {
   "cell_type": "code",
   "execution_count": 6,
   "metadata": {},
   "outputs": [
    {
     "name": "stdout",
     "output_type": "stream",
     "text": [
      "<class 'pandas.core.frame.DataFrame'>\n",
      "RangeIndex: 541909 entries, 0 to 541908\n",
      "Data columns (total 8 columns):\n",
      "invoice_no      541909 non-null object\n",
      "stock_code      541909 non-null object\n",
      "description     540455 non-null object\n",
      "quantity        541909 non-null int64\n",
      "invoice_date    541909 non-null object\n",
      "unit_price      541909 non-null float64\n",
      "customer_id     406829 non-null float64\n",
      "country         541909 non-null object\n",
      "dtypes: float64(2), int64(1), object(5)\n",
      "memory usage: 33.1+ MB\n"
     ]
    }
   ],
   "source": [
    "\"\"\"\n",
    "Show renamed column names\n",
    "\"\"\"\n",
    "retail.info()"
   ]
  },
  {
   "cell_type": "code",
   "execution_count": 7,
   "metadata": {},
   "outputs": [],
   "source": [
    "\"\"\"\n",
    "For analysis purpose filtering data and choosing one country which is United Kingdom\n",
    "\"\"\"\n",
    "retail = retail[retail[\"country\"]== \"United Kingdom\"]"
   ]
  },
  {
   "cell_type": "code",
   "execution_count": 8,
   "metadata": {},
   "outputs": [
    {
     "data": {
      "text/plain": [
       "(495478, 8)"
      ]
     },
     "execution_count": 8,
     "metadata": {},
     "output_type": "execute_result"
    }
   ],
   "source": [
    "\"\"\"\n",
    "Show the size of the dataframe after choosing the dataset for United Kingdom\n",
    "\"\"\"\n",
    "\n",
    "retail.shape"
   ]
  },
  {
   "cell_type": "code",
   "execution_count": 9,
   "metadata": {},
   "outputs": [],
   "source": [
    "\"\"\"\n",
    "1. Changing the country column data/values\n",
    "2. Used the mapping dictonary techique to map the data/values\n",
    "\"\"\"\n",
    "\n",
    "column = [\"country\"]\n",
    "convert_country_abbr = {\"United Kingdom\": \"UK\"}\n",
    "\n",
    "for col in column:\n",
    "    retail[col] = retail[col].map(convert_country_abbr)"
   ]
  },
  {
   "cell_type": "code",
   "execution_count": 10,
   "metadata": {},
   "outputs": [
    {
     "data": {
      "text/plain": [
       "invoice_no           0\n",
       "stock_code           0\n",
       "description       1454\n",
       "quantity             0\n",
       "invoice_date         0\n",
       "unit_price           0\n",
       "customer_id     133600\n",
       "country              0\n",
       "dtype: int64"
      ]
     },
     "execution_count": 10,
     "metadata": {},
     "output_type": "execute_result"
    }
   ],
   "source": [
    "\"\"\"\n",
    "Checking the total number of null values for each column\n",
    "\"\"\"\n",
    "\n",
    "retail.isnull().sum(axis=0)"
   ]
  },
  {
   "cell_type": "code",
   "execution_count": 11,
   "metadata": {},
   "outputs": [],
   "source": [
    "\"\"\"\n",
    "1. Remove all the rows with null values\n",
    "2. Perform analysis only on customers with non nulls\n",
    "3. The below code will drop all the rows with nulls\n",
    "\"\"\"\n",
    "\n",
    "retail = retail.dropna()"
   ]
  },
  {
   "cell_type": "code",
   "execution_count": 12,
   "metadata": {},
   "outputs": [
    {
     "data": {
      "text/plain": [
       "(361878, 8)"
      ]
     },
     "execution_count": 12,
     "metadata": {},
     "output_type": "execute_result"
    }
   ],
   "source": [
    "\"\"\"\n",
    "1. Show the size of the dataframe after dropping null rows\n",
    "2. Total number of rows\n",
    "3. Total number of columns\n",
    "\"\"\"\n",
    "\n",
    "retail.shape"
   ]
  },
  {
   "cell_type": "code",
   "execution_count": 13,
   "metadata": {},
   "outputs": [
    {
     "data": {
      "text/plain": [
       "5150"
      ]
     },
     "execution_count": 13,
     "metadata": {},
     "output_type": "execute_result"
    }
   ],
   "source": [
    "\"\"\"\n",
    "Check the total number of duplicate rows in the dataset\n",
    "\"\"\"\n",
    "\n",
    "retail.duplicated().sum()"
   ]
  },
  {
   "cell_type": "code",
   "execution_count": 14,
   "metadata": {},
   "outputs": [],
   "source": [
    "\"\"\"\n",
    "1. The code below removes all the duplicate rows from the dataset\n",
    "2. Keeps the first instance/row and removes the rest of the duplicated rows/instances\n",
    "\"\"\"\n",
    "\n",
    "retail = retail.drop_duplicates(keep=\"first\")"
   ]
  },
  {
   "cell_type": "code",
   "execution_count": 15,
   "metadata": {},
   "outputs": [
    {
     "data": {
      "text/plain": [
       "(356728, 8)"
      ]
     },
     "execution_count": 15,
     "metadata": {},
     "output_type": "execute_result"
    }
   ],
   "source": [
    "\"\"\"\n",
    "1. Show the size of the dataframe after removing duplicates from the dataset\n",
    "2. Total number of rows\n",
    "3. Total number of columns\n",
    "\"\"\"\n",
    "\n",
    "retail.shape"
   ]
  },
  {
   "cell_type": "code",
   "execution_count": 16,
   "metadata": {},
   "outputs": [],
   "source": [
    "\"\"\"\n",
    "1. Convert customer_id data type from float to Integer\n",
    "2. Looking at the dataset it is safe to convert to Integer for analysis  purpose\n",
    "\"\"\"\n",
    "\n",
    "retail[\"customer_id\"] = retail[\"customer_id\"].astype(int)"
   ]
  },
  {
   "cell_type": "code",
   "execution_count": 17,
   "metadata": {},
   "outputs": [
    {
     "data": {
      "text/plain": [
       "invoice_no      356728\n",
       "stock_code      356728\n",
       "description     356728\n",
       "quantity        356728\n",
       "invoice_date    356728\n",
       "unit_price      356728\n",
       "customer_id     356728\n",
       "country         356728\n",
       "dtype: int64"
      ]
     },
     "execution_count": 17,
     "metadata": {},
     "output_type": "execute_result"
    }
   ],
   "source": [
    "\"\"\"\n",
    "Show the total number of notnulls for each column\n",
    "\"\"\"\n",
    "\n",
    "retail.notnull().sum(axis=0)"
   ]
  },
  {
   "cell_type": "code",
   "execution_count": 18,
   "metadata": {},
   "outputs": [
    {
     "data": {
      "text/plain": [
       "invoice_no      0\n",
       "stock_code      0\n",
       "description     0\n",
       "quantity        0\n",
       "invoice_date    0\n",
       "unit_price      0\n",
       "customer_id     0\n",
       "country         0\n",
       "dtype: int64"
      ]
     },
     "execution_count": 18,
     "metadata": {},
     "output_type": "execute_result"
    }
   ],
   "source": [
    "\"\"\"\n",
    "Show the total number of nulls for each column after all the clean ups\n",
    "\"\"\"\n",
    "\n",
    "retail.isnull().sum(axis=0)"
   ]
  },
  {
   "cell_type": "code",
   "execution_count": 19,
   "metadata": {},
   "outputs": [
    {
     "data": {
      "text/plain": [
       "(7501, 8)"
      ]
     },
     "execution_count": 19,
     "metadata": {},
     "output_type": "execute_result"
    }
   ],
   "source": [
    "\"\"\"\n",
    "Check the quantities for every row\n",
    "If the quantity is zero or below, remove from the dataset\n",
    "Perform analysis only on the dataset with quantities greater than zero\n",
    "\"\"\"\n",
    "\n",
    "retail[retail[\"quantity\"] <= 0].shape"
   ]
  },
  {
   "cell_type": "code",
   "execution_count": 20,
   "metadata": {},
   "outputs": [
    {
     "data": {
      "text/plain": [
       "(349227, 8)"
      ]
     },
     "execution_count": 20,
     "metadata": {},
     "output_type": "execute_result"
    }
   ],
   "source": [
    "\"\"\"\n",
    "Check the quantites for every row\n",
    "If the quantity is above zero, keep those rows\n",
    "\"\"\"\n",
    "\n",
    "retail[retail[\"quantity\"] > 0].shape"
   ]
  },
  {
   "cell_type": "code",
   "execution_count": 21,
   "metadata": {},
   "outputs": [],
   "source": [
    "\"\"\"\n",
    "Filter the dataset further to pick only the rows with quantities greater than zero\n",
    "\"\"\"\n",
    "\n",
    "retail = retail[retail[\"quantity\"] > 0]"
   ]
  },
  {
   "cell_type": "code",
   "execution_count": 22,
   "metadata": {},
   "outputs": [
    {
     "data": {
      "text/plain": [
       "(349227, 8)"
      ]
     },
     "execution_count": 22,
     "metadata": {},
     "output_type": "execute_result"
    }
   ],
   "source": [
    "\"\"\"\n",
    "Check the size of dataset after filteration\n",
    "\"\"\"\n",
    "\n",
    "retail.shape"
   ]
  },
  {
   "cell_type": "code",
   "execution_count": 23,
   "metadata": {},
   "outputs": [
    {
     "data": {
      "text/plain": [
       "(24, 8)"
      ]
     },
     "execution_count": 23,
     "metadata": {},
     "output_type": "execute_result"
    }
   ],
   "source": [
    "\"\"\"\n",
    "Check the unit_price for every row\n",
    "If the unit price is zero or below, remove the rows from the dataset\n",
    "\"\"\"\n",
    "\n",
    "retail[retail[\"unit_price\"] <= 0].shape"
   ]
  },
  {
   "cell_type": "code",
   "execution_count": 24,
   "metadata": {},
   "outputs": [
    {
     "data": {
      "text/plain": [
       "(349203, 8)"
      ]
     },
     "execution_count": 24,
     "metadata": {},
     "output_type": "execute_result"
    }
   ],
   "source": [
    "\"\"\"\n",
    "Check the unit price for every row above zero unit price\n",
    "\"\"\"\n",
    "\n",
    "retail[retail[\"unit_price\"] > 0].shape"
   ]
  },
  {
   "cell_type": "code",
   "execution_count": 25,
   "metadata": {},
   "outputs": [],
   "source": [
    "\"\"\"\n",
    "Filter the dataset further to pick only the rows with unit price greater than zero\n",
    "\"\"\"\n",
    "\n",
    "retail = retail[retail[\"unit_price\"] > 0]"
   ]
  },
  {
   "cell_type": "code",
   "execution_count": 26,
   "metadata": {},
   "outputs": [
    {
     "data": {
      "text/plain": [
       "(349203, 8)"
      ]
     },
     "execution_count": 26,
     "metadata": {},
     "output_type": "execute_result"
    }
   ],
   "source": [
    "\"\"\"\n",
    "Check the size of the dataset after filtering\n",
    "\"\"\"\n",
    "\n",
    "retail.shape"
   ]
  },
  {
   "cell_type": "code",
   "execution_count": 27,
   "metadata": {},
   "outputs": [
    {
     "data": {
      "text/plain": [
       "3920"
      ]
     },
     "execution_count": 27,
     "metadata": {},
     "output_type": "execute_result"
    }
   ],
   "source": [
    "\"\"\"\n",
    "Checking the unique/distinct number of customers\n",
    "\"\"\"\n",
    "retail[\"customer_id\"].nunique()"
   ]
  },
  {
   "cell_type": "code",
   "execution_count": 28,
   "metadata": {},
   "outputs": [
    {
     "name": "stderr",
     "output_type": "stream",
     "text": [
      "C:\\Anaconda\\lib\\site-packages\\matplotlib\\cbook\\__init__.py:424: MatplotlibDeprecationWarning: \n",
      "Passing one of 'on', 'true', 'off', 'false' as a boolean is deprecated; use an actual boolean (True/False) instead.\n",
      "  warn_deprecated(\"2.2\", \"Passing one of 'on', 'true', 'off', 'false' as a \"\n",
      "C:\\Anaconda\\lib\\site-packages\\matplotlib\\cbook\\__init__.py:424: MatplotlibDeprecationWarning: \n",
      "Passing one of 'on', 'true', 'off', 'false' as a boolean is deprecated; use an actual boolean (True/False) instead.\n",
      "  warn_deprecated(\"2.2\", \"Passing one of 'on', 'true', 'off', 'false' as a \"\n",
      "C:\\Anaconda\\lib\\site-packages\\matplotlib\\cbook\\__init__.py:424: MatplotlibDeprecationWarning: \n",
      "Passing one of 'on', 'true', 'off', 'false' as a boolean is deprecated; use an actual boolean (True/False) instead.\n",
      "  warn_deprecated(\"2.2\", \"Passing one of 'on', 'true', 'off', 'false' as a \"\n",
      "C:\\Anaconda\\lib\\site-packages\\matplotlib\\cbook\\__init__.py:424: MatplotlibDeprecationWarning: \n",
      "Passing one of 'on', 'true', 'off', 'false' as a boolean is deprecated; use an actual boolean (True/False) instead.\n",
      "  warn_deprecated(\"2.2\", \"Passing one of 'on', 'true', 'off', 'false' as a \"\n"
     ]
    },
    {
     "data": {
      "image/png": "[encoded data removed]",
      "text/plain": [
       "<Figure size 432x288 with 1 Axes>"
      ]
     },
     "metadata": {
      "needs_background": "light"
     },
     "output_type": "display_data"
    },
    {
     "data": {
      "text/html": [
       "<div>\n",
       "<style scoped>\n",
       "    .dataframe tbody tr th:only-of-type {\n",
       "        vertical-align: middle;\n",
       "    }\n",
       "\n",
       "    .dataframe tbody tr th {\n",
       "        vertical-align: top;\n",
       "    }\n",
       "\n",
       "    .dataframe thead th {\n",
       "        text-align: right;\n",
       "    }\n",
       "</style>\n",
       "<table border=\"1\" class=\"dataframe\">\n",
       "  <thead>\n",
       "    <tr style=\"text-align: right;\">\n",
       "      <th></th>\n",
       "      <th>customer_id</th>\n",
       "      <th>unit_price</th>\n",
       "    </tr>\n",
       "  </thead>\n",
       "  <tbody>\n",
       "    <tr>\n",
       "      <th>0</th>\n",
       "      <td>14096</td>\n",
       "      <td>33332.45</td>\n",
       "    </tr>\n",
       "    <tr>\n",
       "      <th>1</th>\n",
       "      <td>17841</td>\n",
       "      <td>19471.68</td>\n",
       "    </tr>\n",
       "    <tr>\n",
       "      <th>2</th>\n",
       "      <td>12748</td>\n",
       "      <td>11788.31</td>\n",
       "    </tr>\n",
       "    <tr>\n",
       "      <th>3</th>\n",
       "      <td>16029</td>\n",
       "      <td>8720.65</td>\n",
       "    </tr>\n",
       "    <tr>\n",
       "      <th>4</th>\n",
       "      <td>14606</td>\n",
       "      <td>7535.19</td>\n",
       "    </tr>\n",
       "  </tbody>\n",
       "</table>\n",
       "</div>"
      ],
      "text/plain": [
       "   customer_id  unit_price\n",
       "0        14096    33332.45\n",
       "1        17841    19471.68\n",
       "2        12748    11788.31\n",
       "3        16029     8720.65\n",
       "4        14606     7535.19"
      ]
     },
     "execution_count": 28,
     "metadata": {},
     "output_type": "execute_result"
    }
   ],
   "source": [
    "\"\"\"\n",
    "1. Analyse the customers who purchased the most by unit price\n",
    "2. Show top 5 coustomers based on the purchases by unit price\n",
    "3. Create a plot to show \"Top 5 Customers by purchases by unit price\"\n",
    "\"\"\"\n",
    "\n",
    "fig = plt.figure()\n",
    "ax = fig.add_subplot(1, 1, 1)\n",
    "\n",
    "ax = retail.groupby(\"customer_id\")[\"unit_price\"].sum().sort_values(ascending=False).head().plot.bar(color=\"grey\")\n",
    "ax.set_xlabel(\"customer_id\")\n",
    "ax.set_ylabel(\"unit_price\")\n",
    "ax.set_title(\"Top 5 customers by unit price\")\n",
    "ax.tick_params(bottom=\"off\", top=\"off\", left=\"off\", right=\"off\")\n",
    "\n",
    "for key,spine in ax.spines.items():\n",
    "        spine.set_visible(False)\n",
    "        \n",
    "plt.show()\n",
    "top_5_customers_by_unit_price = pd.DataFrame(retail.groupby(\"customer_id\")[\"unit_price\"].sum().sort_values(ascending=False).reset_index().head())\n",
    "top_5_customers_by_unit_price"
   ]
  },
  {
   "cell_type": "code",
   "execution_count": 29,
   "metadata": {},
   "outputs": [
    {
     "name": "stderr",
     "output_type": "stream",
     "text": [
      "C:\\Anaconda\\lib\\site-packages\\matplotlib\\cbook\\__init__.py:424: MatplotlibDeprecationWarning: \n",
      "Passing one of 'on', 'true', 'off', 'false' as a boolean is deprecated; use an actual boolean (True/False) instead.\n",
      "  warn_deprecated(\"2.2\", \"Passing one of 'on', 'true', 'off', 'false' as a \"\n",
      "C:\\Anaconda\\lib\\site-packages\\matplotlib\\cbook\\__init__.py:424: MatplotlibDeprecationWarning: \n",
      "Passing one of 'on', 'true', 'off', 'false' as a boolean is deprecated; use an actual boolean (True/False) instead.\n",
      "  warn_deprecated(\"2.2\", \"Passing one of 'on', 'true', 'off', 'false' as a \"\n",
      "C:\\Anaconda\\lib\\site-packages\\matplotlib\\cbook\\__init__.py:424: MatplotlibDeprecationWarning: \n",
      "Passing one of 'on', 'true', 'off', 'false' as a boolean is deprecated; use an actual boolean (True/False) instead.\n",
      "  warn_deprecated(\"2.2\", \"Passing one of 'on', 'true', 'off', 'false' as a \"\n",
      "C:\\Anaconda\\lib\\site-packages\\matplotlib\\cbook\\__init__.py:424: MatplotlibDeprecationWarning: \n",
      "Passing one of 'on', 'true', 'off', 'false' as a boolean is deprecated; use an actual boolean (True/False) instead.\n",
      "  warn_deprecated(\"2.2\", \"Passing one of 'on', 'true', 'off', 'false' as a \"\n"
     ]
    },
    {
     "data": {
      "image/png": "[encoded data removed]",
      "text/plain": [
       "<Figure size 432x288 with 1 Axes>"
      ]
     },
     "metadata": {
      "needs_background": "light"
     },
     "output_type": "display_data"
    },
    {
     "data": {
      "text/html": [
       "<div>\n",
       "<style scoped>\n",
       "    .dataframe tbody tr th:only-of-type {\n",
       "        vertical-align: middle;\n",
       "    }\n",
       "\n",
       "    .dataframe tbody tr th {\n",
       "        vertical-align: top;\n",
       "    }\n",
       "\n",
       "    .dataframe thead th {\n",
       "        text-align: right;\n",
       "    }\n",
       "</style>\n",
       "<table border=\"1\" class=\"dataframe\">\n",
       "  <thead>\n",
       "    <tr style=\"text-align: right;\">\n",
       "      <th></th>\n",
       "      <th>customer_id</th>\n",
       "      <th>sum_of_quantities</th>\n",
       "    </tr>\n",
       "  </thead>\n",
       "  <tbody>\n",
       "    <tr>\n",
       "      <th>0</th>\n",
       "      <td>17841</td>\n",
       "      <td>7676</td>\n",
       "    </tr>\n",
       "    <tr>\n",
       "      <th>1</th>\n",
       "      <td>14096</td>\n",
       "      <td>5111</td>\n",
       "    </tr>\n",
       "    <tr>\n",
       "      <th>2</th>\n",
       "      <td>12748</td>\n",
       "      <td>4412</td>\n",
       "    </tr>\n",
       "    <tr>\n",
       "      <th>3</th>\n",
       "      <td>14606</td>\n",
       "      <td>2677</td>\n",
       "    </tr>\n",
       "    <tr>\n",
       "      <th>4</th>\n",
       "      <td>15311</td>\n",
       "      <td>2366</td>\n",
       "    </tr>\n",
       "  </tbody>\n",
       "</table>\n",
       "</div>"
      ],
      "text/plain": [
       "   customer_id  sum_of_quantities\n",
       "0        17841               7676\n",
       "1        14096               5111\n",
       "2        12748               4412\n",
       "3        14606               2677\n",
       "4        15311               2366"
      ]
     },
     "execution_count": 29,
     "metadata": {},
     "output_type": "execute_result"
    }
   ],
   "source": [
    "\"\"\"\n",
    "1. Show the total number of times a customer purchased\n",
    "2. Show top 5 customers who shopped the most\n",
    "3. Create a plot to show \"Top 5 customers who shopped the most\"\n",
    "\"\"\"\n",
    "\n",
    "fig = plt.figure()\n",
    "ax = fig.add_subplot(1, 1, 1)\n",
    "\n",
    "ax = retail[\"customer_id\"].value_counts().sort_values(ascending=False).head().plot.barh(color=\"grey\")\n",
    "ax.set_xlabel(\"Quantities\")\n",
    "ax.set_ylabel(\"Customers\")\n",
    "ax.set_title(\"Top 5 customers who shopped the most\")\n",
    "ax.tick_params(bottom=\"off\", top=\"off\", left=\"off\", right=\"off\")\n",
    "\n",
    "for key,spine in ax.spines.items():\n",
    "        spine.set_visible(False)\n",
    "        \n",
    "plt.show()\n",
    "top_5_customers_who_shopped_the_most = pd.DataFrame(retail[\"customer_id\"].value_counts().sort_values(ascending=False).head())\n",
    "top_5_customers_who_shopped_the_most.rename({\"customer_id\":\"sum_of_quantities\"}, axis=1, inplace=True)\n",
    "top_5_customers_who_shopped_the_most = top_5_customers_who_shopped_the_most.reset_index()\n",
    "top_5_customers_who_shopped_the_most.rename({\"index\":\"customer_id\"}, axis=1, inplace=True)\n",
    "top_5_customers_who_shopped_the_most"
   ]
  },
  {
   "cell_type": "code",
   "execution_count": 30,
   "metadata": {},
   "outputs": [
    {
     "data": {
      "text/plain": [
       "3844"
      ]
     },
     "execution_count": 30,
     "metadata": {},
     "output_type": "execute_result"
    }
   ],
   "source": [
    "\"\"\"\n",
    "Check the total number of unique products by descriptions\n",
    "\"\"\"\n",
    "\n",
    "retail[\"description\"].nunique()"
   ]
  },
  {
   "cell_type": "code",
   "execution_count": 31,
   "metadata": {},
   "outputs": [
    {
     "name": "stderr",
     "output_type": "stream",
     "text": [
      "C:\\Anaconda\\lib\\site-packages\\matplotlib\\cbook\\__init__.py:424: MatplotlibDeprecationWarning: \n",
      "Passing one of 'on', 'true', 'off', 'false' as a boolean is deprecated; use an actual boolean (True/False) instead.\n",
      "  warn_deprecated(\"2.2\", \"Passing one of 'on', 'true', 'off', 'false' as a \"\n",
      "C:\\Anaconda\\lib\\site-packages\\matplotlib\\cbook\\__init__.py:424: MatplotlibDeprecationWarning: \n",
      "Passing one of 'on', 'true', 'off', 'false' as a boolean is deprecated; use an actual boolean (True/False) instead.\n",
      "  warn_deprecated(\"2.2\", \"Passing one of 'on', 'true', 'off', 'false' as a \"\n",
      "C:\\Anaconda\\lib\\site-packages\\matplotlib\\cbook\\__init__.py:424: MatplotlibDeprecationWarning: \n",
      "Passing one of 'on', 'true', 'off', 'false' as a boolean is deprecated; use an actual boolean (True/False) instead.\n",
      "  warn_deprecated(\"2.2\", \"Passing one of 'on', 'true', 'off', 'false' as a \"\n",
      "C:\\Anaconda\\lib\\site-packages\\matplotlib\\cbook\\__init__.py:424: MatplotlibDeprecationWarning: \n",
      "Passing one of 'on', 'true', 'off', 'false' as a boolean is deprecated; use an actual boolean (True/False) instead.\n",
      "  warn_deprecated(\"2.2\", \"Passing one of 'on', 'true', 'off', 'false' as a \"\n"
     ]
    },
    {
     "data": {
      "image/png": "[encoded data removed]",
      "text/plain": [
       "<Figure size 432x288 with 1 Axes>"
      ]
     },
     "metadata": {
      "needs_background": "light"
     },
     "output_type": "display_data"
    },
    {
     "data": {
      "text/html": [
       "<div>\n",
       "<style scoped>\n",
       "    .dataframe tbody tr th:only-of-type {\n",
       "        vertical-align: middle;\n",
       "    }\n",
       "\n",
       "    .dataframe tbody tr th {\n",
       "        vertical-align: top;\n",
       "    }\n",
       "\n",
       "    .dataframe thead th {\n",
       "        text-align: right;\n",
       "    }\n",
       "</style>\n",
       "<table border=\"1\" class=\"dataframe\">\n",
       "  <thead>\n",
       "    <tr style=\"text-align: right;\">\n",
       "      <th></th>\n",
       "      <th>description</th>\n",
       "      <th>quantity</th>\n",
       "    </tr>\n",
       "  </thead>\n",
       "  <tbody>\n",
       "    <tr>\n",
       "      <th>0</th>\n",
       "      <td>PAPER CRAFT , LITTLE BIRDIE</td>\n",
       "      <td>80995</td>\n",
       "    </tr>\n",
       "    <tr>\n",
       "      <th>1</th>\n",
       "      <td>MEDIUM CERAMIC TOP STORAGE JAR</td>\n",
       "      <td>76919</td>\n",
       "    </tr>\n",
       "    <tr>\n",
       "      <th>2</th>\n",
       "      <td>WORLD WAR 2 GLIDERS ASSTD DESIGNS</td>\n",
       "      <td>49086</td>\n",
       "    </tr>\n",
       "    <tr>\n",
       "      <th>3</th>\n",
       "      <td>JUMBO BAG RED RETROSPOT</td>\n",
       "      <td>41878</td>\n",
       "    </tr>\n",
       "    <tr>\n",
       "      <th>4</th>\n",
       "      <td>WHITE HANGING HEART T-LIGHT HOLDER</td>\n",
       "      <td>34630</td>\n",
       "    </tr>\n",
       "  </tbody>\n",
       "</table>\n",
       "</div>"
      ],
      "text/plain": [
       "                          description  quantity\n",
       "0         PAPER CRAFT , LITTLE BIRDIE     80995\n",
       "1      MEDIUM CERAMIC TOP STORAGE JAR     76919\n",
       "2   WORLD WAR 2 GLIDERS ASSTD DESIGNS     49086\n",
       "3             JUMBO BAG RED RETROSPOT     41878\n",
       "4  WHITE HANGING HEART T-LIGHT HOLDER     34630"
      ]
     },
     "execution_count": 31,
     "metadata": {},
     "output_type": "execute_result"
    }
   ],
   "source": [
    "\"\"\"\n",
    "Show the most products sold by quantities\n",
    "Show the top 5 products purchased by quantities\n",
    "Create a plot show \"Top 5 products sold by quantities\"\n",
    "\"\"\"\n",
    "\n",
    "fig = plt.figure()\n",
    "ax = fig.add_subplot(1, 1, 1)\n",
    "\n",
    "ax = retail.groupby(\"description\")[\"quantity\"].sum().sort_values(ascending=False).head().plot.barh(color = \"green\")\n",
    "ax.set_xlabel(\"description\")\n",
    "ax.set_ylabel(\"quantity\")\n",
    "ax.set_title(\"Top 5 products by quantities\")\n",
    "ax.tick_params(bottom=\"off\", top=\"off\", left=\"off\", right=\"off\")\n",
    "\n",
    "for key,spine in ax.spines.items():\n",
    "        spine.set_visible(False)\n",
    "        \n",
    "plt.show()\n",
    "top_5_products_sold_by_qty = pd.DataFrame(retail.groupby(\"description\")[\"quantity\"].sum().sort_values(ascending=False).reset_index().head())\n",
    "top_5_products_sold_by_qty"
   ]
  },
  {
   "cell_type": "code",
   "execution_count": 32,
   "metadata": {},
   "outputs": [
    {
     "data": {
      "image/png": "[encoded data removed]",
      "text/plain": [
       "<Figure size 720x864 with 1 Axes>"
      ]
     },
     "metadata": {
      "needs_background": "light"
     },
     "output_type": "display_data"
    },
    {
     "data": {
      "text/html": [
       "<div>\n",
       "<style scoped>\n",
       "    .dataframe tbody tr th:only-of-type {\n",
       "        vertical-align: middle;\n",
       "    }\n",
       "\n",
       "    .dataframe tbody tr th {\n",
       "        vertical-align: top;\n",
       "    }\n",
       "\n",
       "    .dataframe thead th {\n",
       "        text-align: right;\n",
       "    }\n",
       "</style>\n",
       "<table border=\"1\" class=\"dataframe\">\n",
       "  <thead>\n",
       "    <tr style=\"text-align: right;\">\n",
       "      <th></th>\n",
       "      <th>invoice_month</th>\n",
       "      <th>unit_price</th>\n",
       "    </tr>\n",
       "  </thead>\n",
       "  <tbody>\n",
       "    <tr>\n",
       "      <th>0</th>\n",
       "      <td>2011-11</td>\n",
       "      <td>160405.230</td>\n",
       "    </tr>\n",
       "    <tr>\n",
       "      <th>1</th>\n",
       "      <td>2011-10</td>\n",
       "      <td>128212.620</td>\n",
       "    </tr>\n",
       "    <tr>\n",
       "      <th>2</th>\n",
       "      <td>2011-09</td>\n",
       "      <td>102551.042</td>\n",
       "    </tr>\n",
       "    <tr>\n",
       "      <th>3</th>\n",
       "      <td>2011-05</td>\n",
       "      <td>86126.400</td>\n",
       "    </tr>\n",
       "    <tr>\n",
       "      <th>4</th>\n",
       "      <td>2010-12</td>\n",
       "      <td>72679.570</td>\n",
       "    </tr>\n",
       "    <tr>\n",
       "      <th>5</th>\n",
       "      <td>2011-03</td>\n",
       "      <td>71921.420</td>\n",
       "    </tr>\n",
       "    <tr>\n",
       "      <th>6</th>\n",
       "      <td>2011-06</td>\n",
       "      <td>71741.470</td>\n",
       "    </tr>\n",
       "    <tr>\n",
       "      <th>7</th>\n",
       "      <td>2011-08</td>\n",
       "      <td>65331.280</td>\n",
       "    </tr>\n",
       "    <tr>\n",
       "      <th>8</th>\n",
       "      <td>2011-04</td>\n",
       "      <td>64046.371</td>\n",
       "    </tr>\n",
       "    <tr>\n",
       "      <th>9</th>\n",
       "      <td>2011-07</td>\n",
       "      <td>63765.371</td>\n",
       "    </tr>\n",
       "    <tr>\n",
       "      <th>10</th>\n",
       "      <td>2011-01</td>\n",
       "      <td>55518.870</td>\n",
       "    </tr>\n",
       "    <tr>\n",
       "      <th>11</th>\n",
       "      <td>2011-02</td>\n",
       "      <td>54329.520</td>\n",
       "    </tr>\n",
       "    <tr>\n",
       "      <th>12</th>\n",
       "      <td>2011-12</td>\n",
       "      <td>41316.700</td>\n",
       "    </tr>\n",
       "  </tbody>\n",
       "</table>\n",
       "</div>"
      ],
      "text/plain": [
       "   invoice_month  unit_price\n",
       "0        2011-11  160405.230\n",
       "1        2011-10  128212.620\n",
       "2        2011-09  102551.042\n",
       "3        2011-05   86126.400\n",
       "4        2010-12   72679.570\n",
       "5        2011-03   71921.420\n",
       "6        2011-06   71741.470\n",
       "7        2011-08   65331.280\n",
       "8        2011-04   64046.371\n",
       "9        2011-07   63765.371\n",
       "10       2011-01   55518.870\n",
       "11       2011-02   54329.520\n",
       "12       2011-12   41316.700"
      ]
     },
     "execution_count": 32,
     "metadata": {},
     "output_type": "execute_result"
    }
   ],
   "source": [
    "\"\"\"\n",
    "Convert invoice date column from string to datetime object\n",
    "and create a new column for month\n",
    "Create a plot to show \"Sales by Month\"\n",
    "\"\"\"\n",
    "\n",
    "retail['invoice_month'] = pd.to_datetime(retail[\"invoice_date\"]).dt.to_period('M')\n",
    "\n",
    "fig = plt.figure(figsize=(10, 12))\n",
    "ax = fig.add_subplot(1, 1, 1)\n",
    "\n",
    "months = retail['invoice_month'].sort_values()\n",
    "start_month = months.iloc[0]\n",
    "end_month = months.iloc[-1]\n",
    "\n",
    "index = pd.PeriodIndex(start=start_month, end=end_month)\n",
    "ax = retail.groupby('invoice_month')['unit_price'].sum().reindex(index).sort_values(ascending=False).plot.barh(color = \"blue\")\n",
    "\n",
    "ax.set_xlabel(\"Months\")\n",
    "ax.set_ylabel(\"Unit Price\")\n",
    "ax.set_title(\"Sales by Month\")\n",
    "plt.show()\n",
    "\n",
    "\n",
    "total_units_sold_each_month = pd.DataFrame(retail.groupby('invoice_month')['unit_price'].sum().reindex(index).sort_values(ascending=False))\n",
    "total_units_sold_each_month = total_units_sold_each_month.reset_index()\n",
    "total_units_sold_each_month.rename({\"index\":\"invoice_month\"}, axis=1, inplace=True)\n",
    "total_units_sold_each_month"
   ]
  },
  {
   "cell_type": "code",
   "execution_count": 38,
   "metadata": {},
   "outputs": [
    {
     "name": "stdout",
     "output_type": "stream",
     "text": [
      "  invoice_month                 product_description  sum_of_unit_price\n",
      "0       2010-12            REGENCY CAKESTAND 3 TIER            1514.25\n",
      "1       2010-12         VINTAGE RED KITCHEN CABINET            1215.00\n",
      "2       2010-12        SCOTTIE DOG HOT WATER BOTTLE             628.70\n",
      "3       2010-12            RED RETROSPOT CAKE STAND             611.20\n",
      "4       2010-12  WHITE HANGING HEART T-LIGHT HOLDER             573.90\n",
      "  invoice_month                 product_description  sum_of_unit_price\n",
      "5       2011-01            REGENCY CAKESTAND 3 TIER            1084.20\n",
      "6       2011-01         VINTAGE RED KITCHEN CABINET             920.00\n",
      "7       2011-01   SET OF 3 CAKE TINS PANTRY DESIGN              550.20\n",
      "8       2011-01         CREAM SWEETHEART MINI CHEST             513.75\n",
      "9       2011-01  RUSTIC  SEVENTEEN DRAWER SIDEBOARD             495.00\n",
      "   invoice_month                 product_description  sum_of_unit_price\n",
      "10       2011-02            REGENCY CAKESTAND 3 TIER            1177.05\n",
      "11       2011-02  RUSTIC  SEVENTEEN DRAWER SIDEBOARD             640.00\n",
      "12       2011-02   SET OF 3 CAKE TINS PANTRY DESIGN              569.30\n",
      "13       2011-02          VINTAGE UNION JACK BUNTING             466.45\n",
      "14       2011-02         VINTAGE RED KITCHEN CABINET             420.00\n",
      "   invoice_month                 product_description  sum_of_unit_price\n",
      "15       2011-03            REGENCY CAKESTAND 3 TIER            1800.55\n",
      "16       2011-03        VINTAGE BLUE KITCHEN CABINET            1090.00\n",
      "17       2011-03   SET OF 3 CAKE TINS PANTRY DESIGN              699.40\n",
      "18       2011-03  RUSTIC  SEVENTEEN DRAWER SIDEBOARD             640.00\n",
      "19       2011-03                       PARTY BUNTING             589.75\n",
      "   invoice_month            product_description  sum_of_unit_price\n",
      "20       2011-04                         Manual            2628.79\n",
      "21       2011-04       REGENCY CAKESTAND 3 TIER            1781.85\n",
      "22       2011-04                  PARTY BUNTING             770.50\n",
      "23       2011-04  LOVE SEAT ANTIQUE WHITE METAL             585.00\n",
      "24       2011-04     PICNIC BASKET WICKER LARGE             523.00\n",
      "   invoice_month            product_description  sum_of_unit_price\n",
      "25       2011-05                        POSTAGE            8146.75\n",
      "26       2011-05       REGENCY CAKESTAND 3 TIER            1835.90\n",
      "27       2011-05                  PARTY BUNTING             964.65\n",
      "28       2011-05                 SPOTTY BUNTING             963.00\n",
      "29       2011-05  DOORMAT KEEP CALM AND COME IN             872.48\n",
      "   invoice_month             product_description  sum_of_unit_price\n",
      "30       2011-06  PICNIC BASKET WICKER 60 PIECES            1299.00\n",
      "31       2011-06        REGENCY CAKESTAND 3 TIER            1206.40\n",
      "32       2011-06                   PARTY BUNTING             827.35\n",
      "33       2011-06                          Manual             752.79\n",
      "34       2011-06   DOORMAT KEEP CALM AND COME IN             735.31\n",
      "   invoice_month            product_description  sum_of_unit_price\n",
      "35       2011-07       REGENCY CAKESTAND 3 TIER            1166.10\n",
      "36       2011-07                         Manual            1055.94\n",
      "37       2011-07                  PARTY BUNTING             724.10\n",
      "38       2011-07                 SPOTTY BUNTING             711.35\n",
      "39       2011-07  DOORMAT KEEP CALM AND COME IN             630.30\n",
      "   invoice_month               product_description  sum_of_unit_price\n",
      "40       2011-08                            Manual            2974.37\n",
      "41       2011-08          REGENCY CAKESTAND 3 TIER            1171.50\n",
      "42       2011-08                    SPOTTY BUNTING             648.79\n",
      "43       2011-08                     PARTY BUNTING             568.60\n",
      "44       2011-08  SET/4 WHITE RETRO STORAGE CUBES              464.40\n",
      "   invoice_month          product_description  sum_of_unit_price\n",
      "45       2011-09                       Manual            2904.25\n",
      "46       2011-09               DOTCOM POSTAGE            1681.83\n",
      "47       2011-09     REGENCY CAKESTAND 3 TIER            1381.77\n",
      "48       2011-09   HOT WATER BOTTLE KEEP CALM             899.75\n",
      "49       2011-09  BREAD BIN DINER STYLE IVORY             757.81\n",
      "   invoice_month            product_description  sum_of_unit_price\n",
      "50       2011-10                         Manual            4307.07\n",
      "51       2011-10                 DOTCOM POSTAGE            3408.76\n",
      "52       2011-10       REGENCY CAKESTAND 3 TIER            1387.89\n",
      "53       2011-10  DOORMAT KEEP CALM AND COME IN            1128.13\n",
      "54       2011-10     HOT WATER BOTTLE KEEP CALM             837.80\n",
      "   invoice_month            product_description  sum_of_unit_price\n",
      "55       2011-11                 DOTCOM POSTAGE            5205.34\n",
      "56       2011-11       REGENCY CAKESTAND 3 TIER            1738.23\n",
      "57       2011-11     HOT WATER BOTTLE KEEP CALM            1239.35\n",
      "58       2011-11  BOTANICAL GARDENS WALL CLOCK             1054.00\n",
      "59       2011-11  DOORMAT KEEP CALM AND COME IN            1018.72\n",
      "   invoice_month              product_description  sum_of_unit_price\n",
      "60       2011-12                   DOTCOM POSTAGE            1599.26\n",
      "61       2011-12         REGENCY CAKESTAND 3 TIER             491.31\n",
      "62       2011-12       HOT WATER BOTTLE KEEP CALM             385.45\n",
      "63       2011-12  PAPER CHAIN KIT 50'S CHRISTMAS              298.54\n",
      "64       2011-12    DOORMAT KEEP CALM AND COME IN             272.44\n"
     ]
    }
   ],
   "source": [
    "\"\"\"\n",
    "1. Create a dataframe for the top 5 product sold by month\n",
    "2. The reason for creating a dataframe, it can be used for future various analysis\n",
    "3. create a list to show top 5 product sold each month, since dataframe do not show the dataframe\n",
    "4. The list and the print statement is to show the entire result of the dataframe\n",
    "\"\"\"\n",
    "retail[\"invoice_month\"] = retail[\"invoice_month\"].astype(str)\n",
    "\n",
    "product_sold_each_month = retail.groupby([\"invoice_month\", \"description\"])[\"unit_price\"].sum()\n",
    "top_5_products_sold_each_month = pd.DataFrame(product_sold_each_month.groupby(level=[0], group_keys=False).nlargest(5))\n",
    "top_5_products_sold_each_month = top_5_products_sold_each_month.reset_index()\n",
    "top_5_products_sold_each_month = top_5_products_sold_each_month.rename(columns={\"description\": \"product_description\", \"unit_price\":\"sum_of_unit_price\"})\n",
    "top_5_products_sold_each_month\n",
    "\n",
    "products_sold_each_month = top_5_products_sold_each_month[\"invoice_month\"].unique()\n",
    "products_sold_each_month = list(products_sold_each_month)\n",
    "\n",
    "for psem in products_sold_each_month:\n",
    "    top_product_sold_by_month = top_5_products_sold_each_month[top_5_products_sold_each_month[\"invoice_month\"]== psem]\n",
    "    print(top_product_sold_by_month)"
   ]
  },
  {
   "cell_type": "code",
   "execution_count": 40,
   "metadata": {},
   "outputs": [
    {
     "name": "stdout",
     "output_type": "stream",
     "text": [
      "  invoice_month                 product_description  Count_of_products_sold\n",
      "0       2010-12  WHITE HANGING HEART T-LIGHT HOLDER                     202\n",
      "1       2010-12         HAND WARMER BABUSHKA DESIGN                     134\n",
      "2       2010-12     PAPER CHAIN KIT 50'S CHRISTMAS                      133\n",
      "3       2010-12        SCOTTIE DOG HOT WATER BOTTLE                     128\n",
      "4       2010-12            REGENCY CAKESTAND 3 TIER                     123\n",
      "  invoice_month                 product_description  Count_of_products_sold\n",
      "5       2011-01  WHITE HANGING HEART T-LIGHT HOLDER                     152\n",
      "6       2011-01               HEART OF WICKER SMALL                     116\n",
      "7       2011-01   SET OF 3 CAKE TINS PANTRY DESIGN                      112\n",
      "8       2011-01     NATURAL SLATE HEART CHALKBOARD                       93\n",
      "9       2011-01            REGENCY CAKESTAND 3 TIER                      88\n",
      "   invoice_month                 product_description  Count_of_products_sold\n",
      "10       2011-02  WHITE HANGING HEART T-LIGHT HOLDER                     119\n",
      "11       2011-02   SET OF 3 CAKE TINS PANTRY DESIGN                      116\n",
      "12       2011-02            REGENCY CAKESTAND 3 TIER                      95\n",
      "13       2011-02               HEART OF WICKER SMALL                      90\n",
      "14       2011-02               HEART OF WICKER LARGE                      81\n",
      "   invoice_month                 product_description  Count_of_products_sold\n",
      "15       2011-03  WHITE HANGING HEART T-LIGHT HOLDER                     164\n",
      "16       2011-03            REGENCY CAKESTAND 3 TIER                     146\n",
      "17       2011-03   SET OF 3 CAKE TINS PANTRY DESIGN                      142\n",
      "18       2011-03                       PARTY BUNTING                     121\n",
      "19       2011-03        SET OF 4 PANTRY JELLY MOULDS                     117\n",
      "   invoice_month                 product_description  Count_of_products_sold\n",
      "20       2011-04                       PARTY BUNTING                     158\n",
      "21       2011-04  WHITE HANGING HEART T-LIGHT HOLDER                     156\n",
      "22       2011-04            REGENCY CAKESTAND 3 TIER                     143\n",
      "23       2011-04              PAPER CHAIN KIT EMPIRE                     136\n",
      "24       2011-04       ASSORTED COLOUR BIRD ORNAMENT                     105\n",
      "   invoice_month                 product_description  Count_of_products_sold\n",
      "25       2011-05                       PARTY BUNTING                     199\n",
      "26       2011-05                      SPOTTY BUNTING                     196\n",
      "27       2011-05  WHITE HANGING HEART T-LIGHT HOLDER                     195\n",
      "28       2011-05            REGENCY CAKESTAND 3 TIER                     147\n",
      "29       2011-05           LUNCH BAG DOILEY PATTERN                      132\n",
      "   invoice_month                 product_description  Count_of_products_sold\n",
      "30       2011-06                       PARTY BUNTING                     169\n",
      "31       2011-06                      SPOTTY BUNTING                     138\n",
      "32       2011-06  WHITE HANGING HEART T-LIGHT HOLDER                     125\n",
      "33       2011-06           JUMBO BAG DOILEY PATTERNS                     118\n",
      "34       2011-06           LUNCH BAG DOILEY PATTERN                      118\n",
      "   invoice_month                 product_description  Count_of_products_sold\n",
      "35       2011-07                       PARTY BUNTING                     149\n",
      "36       2011-07                      SPOTTY BUNTING                     145\n",
      "37       2011-07  WHITE HANGING HEART T-LIGHT HOLDER                     139\n",
      "38       2011-07           LUNCH BAG DOILEY PATTERN                      133\n",
      "39       2011-07             JUMBO BAG RED RETROSPOT                     123\n",
      "   invoice_month                 product_description  Count_of_products_sold\n",
      "40       2011-08             JUMBO BAG RED RETROSPOT                     134\n",
      "41       2011-08                      SPOTTY BUNTING                     132\n",
      "42       2011-08  WHITE HANGING HEART T-LIGHT HOLDER                     126\n",
      "43       2011-08             LUNCH BAG RED RETROSPOT                     123\n",
      "44       2011-08                       PARTY BUNTING                     116\n",
      "   invoice_month                 product_description  Count_of_products_sold\n",
      "45       2011-09          HOT WATER BOTTLE KEEP CALM                     185\n",
      "46       2011-09             JUMBO BAG RED RETROSPOT                     174\n",
      "47       2011-09            JUMBO BAG VINTAGE DOILY                      162\n",
      "48       2011-09  WHITE HANGING HEART T-LIGHT HOLDER                     150\n",
      "49       2011-09     PAPER CHAIN KIT 50'S CHRISTMAS                      140\n",
      "   invoice_month                product_description  Count_of_products_sold\n",
      "50       2011-10    PAPER CHAIN KIT 50'S CHRISTMAS                      198\n",
      "51       2011-10         HOT WATER BOTTLE KEEP CALM                     172\n",
      "52       2011-10            JUMBO BAG RED RETROSPOT                     146\n",
      "53       2011-10  PAPER CHAIN KIT VINTAGE CHRISTMAS                     141\n",
      "54       2011-10      DOORMAT KEEP CALM AND COME IN                     139\n",
      "   invoice_month                product_description  Count_of_products_sold\n",
      "55       2011-11                 RABBIT NIGHT LIGHT                     376\n",
      "56       2011-11    PAPER CHAIN KIT 50'S CHRISTMAS                      339\n",
      "57       2011-11         HOT WATER BOTTLE KEEP CALM                     255\n",
      "58       2011-11  PAPER CHAIN KIT VINTAGE CHRISTMAS                     232\n",
      "59       2011-11          JUMBO BAG 50'S CHRISTMAS                      218\n",
      "   invoice_month                product_description  Count_of_products_sold\n",
      "60       2011-12    PAPER CHAIN KIT 50'S CHRISTMAS                      102\n",
      "61       2011-12                 RABBIT NIGHT LIGHT                     101\n",
      "62       2011-12         HOT WATER BOTTLE KEEP CALM                      79\n",
      "63       2011-12  PAPER CHAIN KIT VINTAGE CHRISTMAS                      73\n",
      "64       2011-12             HAND WARMER OWL DESIGN                      65\n"
     ]
    }
   ],
   "source": [
    "\"\"\"\n",
    "1. Create a dataframe for the top 5 product counts by month\n",
    "2. The reason for creating a dataframe, it can be used for future various analysis\n",
    "3. create a list to show top 5 product counts each month, since dataframe do not show the dataframe\n",
    "4. The list and the print statement is to show the entire result of the dataframe\n",
    "\"\"\"\n",
    "\n",
    "retail[\"invoice_month\"] = retail[\"invoice_month\"].astype(str)\n",
    "retail_description_count = retail[\"description\"].groupby(retail[\"invoice_month\"]).value_counts()\n",
    "top_5_products_count_each_month = pd.DataFrame(retail_description_count.groupby(level=[0], group_keys = False).nlargest(5))\n",
    "top_5_products_count_each_month.rename({\"description\":\"Count_of_products_sold\"}, axis = 1, inplace=True)\n",
    "top_5_products_count_each_month = top_5_products_count_each_month.reset_index()\n",
    "top_5_products_count_each_month.rename = top_5_products_count_each_month.rename({\"description\":\"product_description\"}, axis=1, inplace=True)\n",
    "\n",
    "products_count_each_month = top_5_products_count_each_month[\"invoice_month\"].unique()\n",
    "products_count_each_month = list(products_count_each_month)\n",
    "\n",
    "for pcem in products_count_each_month:\n",
    "    top_products_count_by_month = top_5_products_count_each_month[top_5_products_count_each_month[\"invoice_month\"]== pcem]\n",
    "    print(top_products_count_by_month)"
   ]
  },
  {
   "cell_type": "code",
   "execution_count": null,
   "metadata": {},
   "outputs": [],
   "source": []
  }
 ],
 "metadata": {
  "kernelspec": {
   "display_name": "Python 3",
   "language": "python",
   "name": "python3"
  },
  "language_info": {
   "codemirror_mode": {
    "name": "ipython",
    "version": 3
   },
   "file_extension": ".py",
   "mimetype": "text/x-python",
   "name": "python",
   "nbconvert_exporter": "python",
   "pygments_lexer": "ipython3",
   "version": "3.7.1"
  }
 },
 "nbformat": 4,
 "nbformat_minor": 2
}
