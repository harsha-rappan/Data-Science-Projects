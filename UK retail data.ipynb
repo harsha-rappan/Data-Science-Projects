{
 "cells": [
  {
   "cell_type": "code",
   "execution_count": 1,
   "metadata": {},
   "outputs": [],
   "source": [
    "import numpy as np\n",
    "import pandas as pd\n",
    "import datetime as dt\n",
    "import matplotlib.pyplot as plt\n",
    "%matplotlib inline"
   ]
  },
  {
   "cell_type": "code",
   "execution_count": 2,
   "metadata": {},
   "outputs": [],
   "source": [
    "retail = pd.read_csv(r\"C:\\Users\\hrap003\\Desktop\\Python\\Data science projects\\Retail pojects\\UK retail data\\data.csv\", encoding = \"Latin-1\")"
   ]
  },
  {
   "cell_type": "code",
   "execution_count": null,
   "metadata": {},
   "outputs": [],
   "source": [
    "\"\"\"\n",
    "1. Show the size of the dataframe\n",
    "2. Total number of rows\n",
    "3. Total number of columns\n",
    "\"\"\"\n",
    "\n",
    "retail.shape"
   ]
  },
  {
   "cell_type": "code",
   "execution_count": 4,
   "metadata": {},
   "outputs": [
    {
     "name": "stdout",
     "output_type": "stream",
     "text": [
      "<class 'pandas.core.frame.DataFrame'>\n",
      "RangeIndex: 541909 entries, 0 to 541908\n",
      "Data columns (total 8 columns):\n",
      "InvoiceNo      541909 non-null object\n",
      "StockCode      541909 non-null object\n",
      "Description    540455 non-null object\n",
      "Quantity       541909 non-null int64\n",
      "InvoiceDate    541909 non-null object\n",
      "UnitPrice      541909 non-null float64\n",
      "CustomerID     406829 non-null float64\n",
      "Country        541909 non-null object\n",
      "dtypes: float64(2), int64(1), object(5)\n",
      "memory usage: 33.1+ MB\n"
     ]
    }
   ],
   "source": [
    "\"\"\"\n",
    "Information about the dataframe\n",
    "\"\"\"\n",
    "retail.info()"
   ]
  },
  {
   "cell_type": "code",
   "execution_count": 5,
   "metadata": {},
   "outputs": [],
   "source": [
    "\"\"\"\n",
    "1. Renaming the column names\n",
    "2. Used mapping dictonary technique to rename all the columns together\n",
    "\"\"\"\n",
    "\n",
    "retail = retail.rename(columns={    \n",
    "    \"InvoiceNo\": \"invoice_no\",\n",
    "    \"StockCode\": \"stock_code\",\n",
    "    \"Description\": \"description\",\n",
    "    \"Quantity\": \"quantity\",\n",
    "    \"InvoiceDate\": \"invoice_date\",\n",
    "    \"UnitPrice\": \"unit_price\",\n",
    "    \"CustomerID\": \"customer_id\",\n",
    "    \"Country\": \"country\"})"
   ]
  },
  {
   "cell_type": "code",
   "execution_count": 6,
   "metadata": {},
   "outputs": [
    {
     "name": "stdout",
     "output_type": "stream",
     "text": [
      "<class 'pandas.core.frame.DataFrame'>\n",
      "RangeIndex: 541909 entries, 0 to 541908\n",
      "Data columns (total 8 columns):\n",
      "invoice_no      541909 non-null object\n",
      "stock_code      541909 non-null object\n",
      "description     540455 non-null object\n",
      "quantity        541909 non-null int64\n",
      "invoice_date    541909 non-null object\n",
      "unit_price      541909 non-null float64\n",
      "customer_id     406829 non-null float64\n",
      "country         541909 non-null object\n",
      "dtypes: float64(2), int64(1), object(5)\n",
      "memory usage: 33.1+ MB\n"
     ]
    }
   ],
   "source": [
    "\"\"\"\n",
    "Show renamed column names\n",
    "\"\"\"\n",
    "retail.info()"
   ]
  },
  {
   "cell_type": "code",
   "execution_count": 7,
   "metadata": {},
   "outputs": [],
   "source": [
    "\"\"\"\n",
    "For analysis purpose filtering data and choosing one country which is United Kingdom\n",
    "\"\"\"\n",
    "retail = retail[retail[\"country\"]== \"United Kingdom\"]"
   ]
  },
  {
   "cell_type": "code",
   "execution_count": 8,
   "metadata": {},
   "outputs": [
    {
     "data": {
      "text/plain": [
       "(495478, 8)"
      ]
     },
     "execution_count": 8,
     "metadata": {},
     "output_type": "execute_result"
    }
   ],
   "source": [
    "\"\"\"\n",
    "Show the size of the dataframe after choosing the dataset for United Kingdom\n",
    "\"\"\"\n",
    "\n",
    "retail.shape"
   ]
  },
  {
   "cell_type": "code",
   "execution_count": 9,
   "metadata": {},
   "outputs": [],
   "source": [
    "\"\"\"\n",
    "1. Changing the country column data/values\n",
    "2. Used the mapping dictonary techique to map the data/values\n",
    "\"\"\"\n",
    "\n",
    "column = [\"country\"]\n",
    "convert_country_abbr = {\"United Kingdom\": \"UK\"}\n",
    "\n",
    "for col in column:\n",
    "    retail[col] = retail[col].map(convert_country_abbr)"
   ]
  },
  {
   "cell_type": "code",
   "execution_count": 10,
   "metadata": {},
   "outputs": [
    {
     "data": {
      "text/plain": [
       "invoice_no           0\n",
       "stock_code           0\n",
       "description       1454\n",
       "quantity             0\n",
       "invoice_date         0\n",
       "unit_price           0\n",
       "customer_id     133600\n",
       "country              0\n",
       "dtype: int64"
      ]
     },
     "execution_count": 10,
     "metadata": {},
     "output_type": "execute_result"
    }
   ],
   "source": [
    "\"\"\"\n",
    "Checking the total number of null values for each column\n",
    "\"\"\"\n",
    "\n",
    "retail.isnull().sum(axis=0)"
   ]
  },
  {
   "cell_type": "code",
   "execution_count": 11,
   "metadata": {},
   "outputs": [],
   "source": [
    "\"\"\"\n",
    "1. Remove all the rows with null values\n",
    "2. Perform analysis only on customers with non nulls\n",
    "3. The below code will drop all the rows with nulls\n",
    "\"\"\"\n",
    "\n",
    "retail = retail.dropna()"
   ]
  },
  {
   "cell_type": "code",
   "execution_count": 12,
   "metadata": {},
   "outputs": [
    {
     "data": {
      "text/plain": [
       "(361878, 8)"
      ]
     },
     "execution_count": 12,
     "metadata": {},
     "output_type": "execute_result"
    }
   ],
   "source": [
    "\"\"\"\n",
    "1. Show the size of the dataframe after dropping null rows\n",
    "2. Total number of rows\n",
    "3. Total number of columns\n",
    "\"\"\"\n",
    "\n",
    "retail.shape"
   ]
  },
  {
   "cell_type": "code",
   "execution_count": 13,
   "metadata": {},
   "outputs": [
    {
     "data": {
      "text/plain": [
       "5150"
      ]
     },
     "execution_count": 13,
     "metadata": {},
     "output_type": "execute_result"
    }
   ],
   "source": [
    "\"\"\"\n",
    "Check the total number of duplicate rows in the dataset\n",
    "\"\"\"\n",
    "\n",
    "retail.duplicated().sum()"
   ]
  },
  {
   "cell_type": "code",
   "execution_count": 14,
   "metadata": {},
   "outputs": [],
   "source": [
    "\"\"\"\n",
    "1. The code below removes all the duplicate rows from the dataset\n",
    "2. Keeps the first instance/row and removes the rest of the duplicated rows/instances\n",
    "\"\"\"\n",
    "\n",
    "retail = retail.drop_duplicates(keep=\"first\")"
   ]
  },
  {
   "cell_type": "code",
   "execution_count": 15,
   "metadata": {},
   "outputs": [
    {
     "data": {
      "text/plain": [
       "(356728, 8)"
      ]
     },
     "execution_count": 15,
     "metadata": {},
     "output_type": "execute_result"
    }
   ],
   "source": [
    "\"\"\"\n",
    "1. Show the size of the dataframe after removing duplicates from the dataset\n",
    "2. Total number of rows\n",
    "3. Total number of columns\n",
    "\"\"\"\n",
    "\n",
    "retail.shape"
   ]
  },
  {
   "cell_type": "code",
   "execution_count": 16,
   "metadata": {},
   "outputs": [],
   "source": [
    "\"\"\"\n",
    "1. Convert customer_id data type from float to Integer\n",
    "2. Looking at the dataset it is safe to convert to Integer for analysis  purpose\n",
    "\"\"\"\n",
    "\n",
    "retail[\"customer_id\"] = retail[\"customer_id\"].astype(int)"
   ]
  },
  {
   "cell_type": "code",
   "execution_count": 17,
   "metadata": {},
   "outputs": [
    {
     "data": {
      "text/plain": [
       "invoice_no      356728\n",
       "stock_code      356728\n",
       "description     356728\n",
       "quantity        356728\n",
       "invoice_date    356728\n",
       "unit_price      356728\n",
       "customer_id     356728\n",
       "country         356728\n",
       "dtype: int64"
      ]
     },
     "execution_count": 17,
     "metadata": {},
     "output_type": "execute_result"
    }
   ],
   "source": [
    "\"\"\"\n",
    "Show the total number of notnulls for each column\n",
    "\"\"\"\n",
    "\n",
    "retail.notnull().sum(axis=0)"
   ]
  },
  {
   "cell_type": "code",
   "execution_count": 18,
   "metadata": {},
   "outputs": [
    {
     "data": {
      "text/plain": [
       "invoice_no      0\n",
       "stock_code      0\n",
       "description     0\n",
       "quantity        0\n",
       "invoice_date    0\n",
       "unit_price      0\n",
       "customer_id     0\n",
       "country         0\n",
       "dtype: int64"
      ]
     },
     "execution_count": 18,
     "metadata": {},
     "output_type": "execute_result"
    }
   ],
   "source": [
    "\"\"\"\n",
    "Show the total number of nulls for each column after all the clean ups\n",
    "\"\"\"\n",
    "\n",
    "retail.isnull().sum(axis=0)"
   ]
  },
  {
   "cell_type": "code",
   "execution_count": 19,
   "metadata": {},
   "outputs": [
    {
     "data": {
      "text/plain": [
       "(7501, 8)"
      ]
     },
     "execution_count": 19,
     "metadata": {},
     "output_type": "execute_result"
    }
   ],
   "source": [
    "\"\"\"\n",
    "Check the quantities for every row\n",
    "If the quantity is zero or below, remove from the dataset\n",
    "Perform analysis only on the dataset with quantities greater than zero\n",
    "\"\"\"\n",
    "\n",
    "retail[retail[\"quantity\"] <= 0].shape"
   ]
  },
  {
   "cell_type": "code",
   "execution_count": 20,
   "metadata": {},
   "outputs": [
    {
     "data": {
      "text/plain": [
       "(349227, 8)"
      ]
     },
     "execution_count": 20,
     "metadata": {},
     "output_type": "execute_result"
    }
   ],
   "source": [
    "\"\"\"\n",
    "Check the quantites for every row\n",
    "If the quantity is above zero, keep those rows\n",
    "\"\"\"\n",
    "\n",
    "retail[retail[\"quantity\"] > 0].shape"
   ]
  },
  {
   "cell_type": "code",
   "execution_count": 21,
   "metadata": {},
   "outputs": [],
   "source": [
    "\"\"\"\n",
    "Filter the dataset further to pick only the rows with quantities greater than zero\n",
    "\"\"\"\n",
    "\n",
    "retail = retail[retail[\"quantity\"] > 0]"
   ]
  },
  {
   "cell_type": "code",
   "execution_count": 22,
   "metadata": {},
   "outputs": [
    {
     "data": {
      "text/plain": [
       "(349227, 8)"
      ]
     },
     "execution_count": 22,
     "metadata": {},
     "output_type": "execute_result"
    }
   ],
   "source": [
    "\"\"\"\n",
    "Check the size of dataset after filteration\n",
    "\"\"\"\n",
    "\n",
    "retail.shape"
   ]
  },
  {
   "cell_type": "code",
   "execution_count": 23,
   "metadata": {},
   "outputs": [
    {
     "data": {
      "text/plain": [
       "(24, 8)"
      ]
     },
     "execution_count": 23,
     "metadata": {},
     "output_type": "execute_result"
    }
   ],
   "source": [
    "\"\"\"\n",
    "Check the unit_price for every row\n",
    "If the unit price is zero or below, remove the rows from the dataset\n",
    "\"\"\"\n",
    "\n",
    "retail[retail[\"unit_price\"] <= 0].shape"
   ]
  },
  {
   "cell_type": "code",
   "execution_count": 24,
   "metadata": {},
   "outputs": [
    {
     "data": {
      "text/plain": [
       "(349203, 8)"
      ]
     },
     "execution_count": 24,
     "metadata": {},
     "output_type": "execute_result"
    }
   ],
   "source": [
    "\"\"\"\n",
    "Check the unit price for every row above zero unit price\n",
    "\"\"\"\n",
    "\n",
    "retail[retail[\"unit_price\"] > 0].shape"
   ]
  },
  {
   "cell_type": "code",
   "execution_count": 25,
   "metadata": {},
   "outputs": [],
   "source": [
    "\"\"\"\n",
    "Filter the dataset further to pick only the rows with unit price greater than zero\n",
    "\"\"\"\n",
    "\n",
    "retail = retail[retail[\"unit_price\"] > 0]"
   ]
  },
  {
   "cell_type": "code",
   "execution_count": 26,
   "metadata": {},
   "outputs": [
    {
     "data": {
      "text/plain": [
       "(349203, 8)"
      ]
     },
     "execution_count": 26,
     "metadata": {},
     "output_type": "execute_result"
    }
   ],
   "source": [
    "\"\"\"\n",
    "Check the size of the dataset after filtering\n",
    "\"\"\"\n",
    "\n",
    "retail.shape"
   ]
  },
  {
   "cell_type": "code",
   "execution_count": 27,
   "metadata": {},
   "outputs": [],
   "source": [
    "\"\"\"\n",
    "Convert invoice date column from string to datetime object\n",
    "and create a new column\n",
    "\"\"\"\n",
    "\n",
    "retail['invoice_month'] = pd.to_datetime(retail[\"invoice_date\"]).dt.to_period('M')"
   ]
  },
  {
   "cell_type": "code",
   "execution_count": 28,
   "metadata": {},
   "outputs": [
    {
     "data": {
      "text/plain": [
       "3920"
      ]
     },
     "execution_count": 28,
     "metadata": {},
     "output_type": "execute_result"
    }
   ],
   "source": [
    "\"\"\"\n",
    "Checking the unique/distinct number of customers\n",
    "\"\"\"\n",
    "retail[\"customer_id\"].nunique()"
   ]
  },
  {
   "cell_type": "code",
   "execution_count": 29,
   "metadata": {},
   "outputs": [
    {
     "data": {
      "text/plain": [
       "customer_id\n",
       "12346        1.04\n",
       "12747      449.89\n",
       "12748    11788.31\n",
       "12749      994.99\n",
       "12820      112.38\n",
       "Name: unit_price, dtype: float64"
      ]
     },
     "execution_count": 29,
     "metadata": {},
     "output_type": "execute_result"
    }
   ],
   "source": [
    "\"\"\"\n",
    "Analyse the customers who purchased the most by unit price\n",
    "Show top 5 coustomers based on the purchases by unit price\n",
    "\"\"\"\n",
    "\n",
    "retail.groupby(\"customer_id\")[\"unit_price\"].sum().head()"
   ]
  },
  {
   "cell_type": "code",
   "execution_count": 30,
   "metadata": {},
   "outputs": [
    {
     "name": "stderr",
     "output_type": "stream",
     "text": [
      "C:\\Anaconda\\lib\\site-packages\\matplotlib\\cbook\\__init__.py:424: MatplotlibDeprecationWarning: \n",
      "Passing one of 'on', 'true', 'off', 'false' as a boolean is deprecated; use an actual boolean (True/False) instead.\n",
      "  warn_deprecated(\"2.2\", \"Passing one of 'on', 'true', 'off', 'false' as a \"\n"
     ]
    },
    {
     "data": {
      "image/png": "[encoded data removed]",
      "text/plain": [
       "<Figure size 432x288 with 1 Axes>"
      ]
     },
     "metadata": {
      "needs_background": "light"
     },
     "output_type": "display_data"
    }
   ],
   "source": [
    "\"\"\"\n",
    "Create a plot to show \"Top 5 Customers by purchases by unit price\"\n",
    "\"\"\"\n",
    "\n",
    "fig = plt.figure()\n",
    "ax = fig.add_subplot(1, 1, 1)\n",
    "\n",
    "ax = retail.groupby(\"customer_id\")[\"unit_price\"].sum().head().sort_values(ascending=False).plot.bar(color=\"grey\")\n",
    "ax.set_xlabel(\"customer_id\")\n",
    "ax.set_ylabel(\"unit_price\")\n",
    "ax.set_title(\"Top 5 customers by unit price\")\n",
    "ax.tick_params(bottom=\"off\", top=\"off\", left=\"off\", right=\"off\")\n",
    "\n",
    "for key,spine in ax.spines.items():\n",
    "        spine.set_visible(False)\n",
    "        \n",
    "plt.show()"
   ]
  },
  {
   "cell_type": "code",
   "execution_count": 31,
   "metadata": {},
   "outputs": [
    {
     "data": {
      "text/plain": [
       "17841    7676\n",
       "14096    5111\n",
       "12748    4412\n",
       "14606    2677\n",
       "15311    2366\n",
       "Name: customer_id, dtype: int64"
      ]
     },
     "execution_count": 31,
     "metadata": {},
     "output_type": "execute_result"
    }
   ],
   "source": [
    "\"\"\"\n",
    "Show the total number of times a customer purchased\n",
    "Show top 5 customers who shopped the most\n",
    "\"\"\"\n",
    "retail[\"customer_id\"].value_counts().head()"
   ]
  },
  {
   "cell_type": "code",
   "execution_count": 32,
   "metadata": {},
   "outputs": [
    {
     "name": "stderr",
     "output_type": "stream",
     "text": [
      "C:\\Anaconda\\lib\\site-packages\\matplotlib\\cbook\\__init__.py:424: MatplotlibDeprecationWarning: \n",
      "Passing one of 'on', 'true', 'off', 'false' as a boolean is deprecated; use an actual boolean (True/False) instead.\n",
      "  warn_deprecated(\"2.2\", \"Passing one of 'on', 'true', 'off', 'false' as a \"\n"
     ]
    },
    {
     "data": {
      "image/png": "[encoded data removed]",
      "text/plain": [
       "<Figure size 432x288 with 1 Axes>"
      ]
     },
     "metadata": {
      "needs_background": "light"
     },
     "output_type": "display_data"
    }
   ],
   "source": [
    "\"\"\"\n",
    "Create a plot to show \"Top 5 customers who shopped the most\"\n",
    "\"\"\"\n",
    "\n",
    "fig = plt.figure()\n",
    "ax = fig.add_subplot(1, 1, 1)\n",
    "\n",
    "ax = retail[\"customer_id\"].value_counts().head().sort_values(ascending=False).plot.bar(color=\"grey\")\n",
    "ax.set_xlabel(\"customer_id\")\n",
    "ax.set_ylabel(\"Quantities\")\n",
    "ax.set_title(\"Top 5 customers\")\n",
    "ax.tick_params(bottom=\"off\", top=\"off\", left=\"off\", right=\"off\")\n",
    "\n",
    "for key,spine in ax.spines.items():\n",
    "        spine.set_visible(False)\n",
    "        \n",
    "plt.show()"
   ]
  },
  {
   "cell_type": "code",
   "execution_count": 33,
   "metadata": {},
   "outputs": [
    {
     "data": {
      "text/plain": [
       "3844"
      ]
     },
     "execution_count": 33,
     "metadata": {},
     "output_type": "execute_result"
    }
   ],
   "source": [
    "\"\"\"\n",
    "Check the total number of unique products by descriptions\n",
    "\"\"\"\n",
    "\n",
    "retail[\"description\"].nunique()"
   ]
  },
  {
   "cell_type": "code",
   "execution_count": 34,
   "metadata": {},
   "outputs": [
    {
     "data": {
      "text/plain": [
       "description\n",
       " 4 PURPLE FLOCK DINNER CANDLES     132\n",
       " 50'S CHRISTMAS GIFT BAG LARGE    1697\n",
       " DOLLY GIRL BEAKER                 657\n",
       " I LOVE LONDON MINI BACKPACK       180\n",
       " NINE DRAWER OFFICE TIDY            43\n",
       "Name: quantity, dtype: int64"
      ]
     },
     "execution_count": 34,
     "metadata": {},
     "output_type": "execute_result"
    }
   ],
   "source": [
    "\"\"\"\n",
    "Show the most products sold by quantities\n",
    "Show the top 5 products purchased by quantities\n",
    "\"\"\"\n",
    "\n",
    "retail.groupby(\"description\")[\"quantity\"].sum().head()"
   ]
  },
  {
   "cell_type": "code",
   "execution_count": 35,
   "metadata": {},
   "outputs": [
    {
     "name": "stderr",
     "output_type": "stream",
     "text": [
      "C:\\Anaconda\\lib\\site-packages\\matplotlib\\cbook\\__init__.py:424: MatplotlibDeprecationWarning: \n",
      "Passing one of 'on', 'true', 'off', 'false' as a boolean is deprecated; use an actual boolean (True/False) instead.\n",
      "  warn_deprecated(\"2.2\", \"Passing one of 'on', 'true', 'off', 'false' as a \"\n"
     ]
    },
    {
     "data": {
      "image/png": "[encoded data removed]",
      "text/plain": [
       "<Figure size 432x288 with 1 Axes>"
      ]
     },
     "metadata": {
      "needs_background": "light"
     },
     "output_type": "display_data"
    }
   ],
   "source": [
    "\"\"\"\n",
    "Create a plot show \"Top 5 products sold by quantities\"\n",
    "\"\"\"\n",
    "\n",
    "fig = plt.figure()\n",
    "ax = fig.add_subplot(1, 1, 1)\n",
    "\n",
    "ax = retail.groupby(\"description\")[\"quantity\"].sum().head().sort_values(ascending=False).plot.bar(color = \"green\")\n",
    "ax.set_xlabel(\"description\")\n",
    "ax.set_ylabel(\"quantity\")\n",
    "ax.set_title(\"Top 5 products by quantities\")\n",
    "ax.tick_params(bottom=\"off\", top=\"off\", left=\"off\", right=\"off\")\n",
    "\n",
    "for key,spine in ax.spines.items():\n",
    "        spine.set_visible(False)\n",
    "        \n",
    "plt.show()\n"
   ]
  },
  {
   "cell_type": "code",
   "execution_count": 37,
   "metadata": {},
   "outputs": [
    {
     "name": "stderr",
     "output_type": "stream",
     "text": [
      "C:\\Anaconda\\lib\\site-packages\\matplotlib\\cbook\\__init__.py:424: MatplotlibDeprecationWarning: \n",
      "Passing one of 'on', 'true', 'off', 'false' as a boolean is deprecated; use an actual boolean (True/False) instead.\n",
      "  warn_deprecated(\"2.2\", \"Passing one of 'on', 'true', 'off', 'false' as a \"\n"
     ]
    },
    {
     "data": {
      "image/png": "[encoded data removed]",
      "text/plain": [
       "<Figure size 432x288 with 1 Axes>"
      ]
     },
     "metadata": {
      "needs_background": "light"
     },
     "output_type": "display_data"
    }
   ],
   "source": [
    "\"\"\"\n",
    "Create a plot to show \"Sales by Month\"\n",
    "\"\"\"\n",
    "\n",
    "\n",
    "fig = plt.figure()\n",
    "ax = fig.add_subplot(1, 1, 1)\n",
    "\n",
    "months = retail['invoice_month'].sort_values()\n",
    "start_month = months.iloc[0]\n",
    "end_month = months.iloc[-1]\n",
    "\n",
    "index = pd.PeriodIndex(start=start_month, end=end_month)\n",
    "ax = retail.groupby('invoice_month')['unit_price'].sum().reindex(index).sort_values(ascending=False).plot.bar(color = \"blue\")\n",
    "\n",
    "ax.set_xlabel(\"Months\")\n",
    "ax.set_ylabel(\"Unit Price\")\n",
    "ax.set_title(\"Sales by Month\")\n",
    "ax.tick_params(bottom=\"off\", top=\"off\", left=\"off\", right=\"off\")\n",
    "\n",
    "for key,spine in ax.spines.items():\n",
    "        spine.set_visible(False)\n",
    "\n",
    "plt.show()"
   ]
  },
  {
   "cell_type": "code",
   "execution_count": 64,
   "metadata": {},
   "outputs": [
    {
     "data": {
      "text/html": [
       "<div>\n",
       "<style scoped>\n",
       "    .dataframe tbody tr th:only-of-type {\n",
       "        vertical-align: middle;\n",
       "    }\n",
       "\n",
       "    .dataframe tbody tr th {\n",
       "        vertical-align: top;\n",
       "    }\n",
       "\n",
       "    .dataframe thead th {\n",
       "        text-align: right;\n",
       "    }\n",
       "</style>\n",
       "<table border=\"1\" class=\"dataframe\">\n",
       "  <thead>\n",
       "    <tr style=\"text-align: right;\">\n",
       "      <th></th>\n",
       "      <th>invoice_no</th>\n",
       "      <th>stock_code</th>\n",
       "      <th>description</th>\n",
       "      <th>quantity</th>\n",
       "      <th>invoice_date</th>\n",
       "      <th>unit_price</th>\n",
       "      <th>customer_id</th>\n",
       "      <th>country</th>\n",
       "      <th>invoice_month</th>\n",
       "      <th>invoice_day</th>\n",
       "    </tr>\n",
       "  </thead>\n",
       "  <tbody>\n",
       "    <tr>\n",
       "      <th>0</th>\n",
       "      <td>536365</td>\n",
       "      <td>85123A</td>\n",
       "      <td>WHITE HANGING HEART T-LIGHT HOLDER</td>\n",
       "      <td>6</td>\n",
       "      <td>12/1/2010 8:26</td>\n",
       "      <td>2.55</td>\n",
       "      <td>17850</td>\n",
       "      <td>UK</td>\n",
       "      <td>2010-12</td>\n",
       "      <td>2010-12-01</td>\n",
       "    </tr>\n",
       "    <tr>\n",
       "      <th>1</th>\n",
       "      <td>536365</td>\n",
       "      <td>71053</td>\n",
       "      <td>WHITE METAL LANTERN</td>\n",
       "      <td>6</td>\n",
       "      <td>12/1/2010 8:26</td>\n",
       "      <td>3.39</td>\n",
       "      <td>17850</td>\n",
       "      <td>UK</td>\n",
       "      <td>2010-12</td>\n",
       "      <td>2010-12-01</td>\n",
       "    </tr>\n",
       "    <tr>\n",
       "      <th>2</th>\n",
       "      <td>536365</td>\n",
       "      <td>84406B</td>\n",
       "      <td>CREAM CUPID HEARTS COAT HANGER</td>\n",
       "      <td>8</td>\n",
       "      <td>12/1/2010 8:26</td>\n",
       "      <td>2.75</td>\n",
       "      <td>17850</td>\n",
       "      <td>UK</td>\n",
       "      <td>2010-12</td>\n",
       "      <td>2010-12-01</td>\n",
       "    </tr>\n",
       "    <tr>\n",
       "      <th>3</th>\n",
       "      <td>536365</td>\n",
       "      <td>84029G</td>\n",
       "      <td>KNITTED UNION FLAG HOT WATER BOTTLE</td>\n",
       "      <td>6</td>\n",
       "      <td>12/1/2010 8:26</td>\n",
       "      <td>3.39</td>\n",
       "      <td>17850</td>\n",
       "      <td>UK</td>\n",
       "      <td>2010-12</td>\n",
       "      <td>2010-12-01</td>\n",
       "    </tr>\n",
       "    <tr>\n",
       "      <th>4</th>\n",
       "      <td>536365</td>\n",
       "      <td>84029E</td>\n",
       "      <td>RED WOOLLY HOTTIE WHITE HEART.</td>\n",
       "      <td>6</td>\n",
       "      <td>12/1/2010 8:26</td>\n",
       "      <td>3.39</td>\n",
       "      <td>17850</td>\n",
       "      <td>UK</td>\n",
       "      <td>2010-12</td>\n",
       "      <td>2010-12-01</td>\n",
       "    </tr>\n",
       "  </tbody>\n",
       "</table>\n",
       "</div>"
      ],
      "text/plain": [
       "  invoice_no stock_code                          description  quantity  \\\n",
       "0     536365     85123A   WHITE HANGING HEART T-LIGHT HOLDER         6   \n",
       "1     536365      71053                  WHITE METAL LANTERN         6   \n",
       "2     536365     84406B       CREAM CUPID HEARTS COAT HANGER         8   \n",
       "3     536365     84029G  KNITTED UNION FLAG HOT WATER BOTTLE         6   \n",
       "4     536365     84029E       RED WOOLLY HOTTIE WHITE HEART.         6   \n",
       "\n",
       "     invoice_date  unit_price  customer_id country invoice_month invoice_day  \n",
       "0  12/1/2010 8:26        2.55        17850      UK       2010-12  2010-12-01  \n",
       "1  12/1/2010 8:26        3.39        17850      UK       2010-12  2010-12-01  \n",
       "2  12/1/2010 8:26        2.75        17850      UK       2010-12  2010-12-01  \n",
       "3  12/1/2010 8:26        3.39        17850      UK       2010-12  2010-12-01  \n",
       "4  12/1/2010 8:26        3.39        17850      UK       2010-12  2010-12-01  "
      ]
     },
     "execution_count": 64,
     "metadata": {},
     "output_type": "execute_result"
    }
   ],
   "source": [
    "retail.head()"
   ]
  },
  {
   "cell_type": "code",
   "execution_count": null,
   "metadata": {},
   "outputs": [],
   "source": []
  }
 ],
 "metadata": {
  "kernelspec": {
   "display_name": "Python 3",
   "language": "python",
   "name": "python3"
  },
  "language_info": {
   "codemirror_mode": {
    "name": "ipython",
    "version": 3
   },
   "file_extension": ".py",
   "mimetype": "text/x-python",
   "name": "python",
   "nbconvert_exporter": "python",
   "pygments_lexer": "ipython3",
   "version": "3.7.1"
  }
 },
 "nbformat": 4,
 "nbformat_minor": 2
}
